{
 "cells": [
  {
   "cell_type": "code",
   "execution_count": 1,
   "id": "d14d325c-7d44-46dd-8df8-cbca52335012",
   "metadata": {},
   "outputs": [],
   "source": [
    "from tkinter import *\n",
    "from tkinter import messagebox\n",
    "from tkinter import filedialog\n",
    "import string\n",
    "import re\n",
    "from nltk.corpus import stopwords\n",
    "from nltk.tokenize import word_tokenize\n",
    "from nltk.stem import PorterStemmer\n",
    "from sklearn.naive_bayes import MultinomialNB\n",
    "from sklearn.feature_extraction.text import CountVectorizer\n",
    "import pandas as pd"
   ]
  },
  {
   "cell_type": "code",
   "execution_count": 2,
   "id": "53b09e96-ea01-4ef8-8131-a4b1579a5537",
   "metadata": {},
   "outputs": [],
   "source": [
    "def clean_text(msg):\n",
    "    sp_words=stopwords.words('english')\n",
    "    sp_words.remove('not')                     \n",
    "    sp_words.remove(\"don't\")\n",
    "    sp_words.remove(\"didn't\")\n",
    "    sp_words.remove(\"hasn't\")             \n",
    "    sp_words.remove(\"haven't\")\n",
    "    sp_words.remove(\"wasn't\")             \n",
    "    sp_words.remove(\"weren't\")\n",
    "\n",
    "    def remove_punct(msg):\n",
    "        return re.sub(f'[{string.punctuation}]','',msg)\n",
    "\n",
    "    def remove_stopwds(msg):\n",
    "        words=word_tokenize(msg)\n",
    "        new_words=[]\n",
    "        for w in words:\n",
    "            if(w not in sp_words):     \n",
    "                new_words.append(w)\n",
    "        return \" \".join(new_words)\n",
    "\n",
    "    def stemming(msg):\n",
    "        ps=PorterStemmer()\n",
    "        words=word_tokenize(msg)\n",
    "        new_words=[]\n",
    "        for w in words:\n",
    "            new_words.append(ps.stem(w))\n",
    "        return \" \".join(new_words) \n",
    "    \n",
    "    X1=remove_punct(msg)\n",
    "    X2=X1.lower()\n",
    "    X3=remove_stopwds(X2)\n",
    "    X4=stemming(X3)\n",
    "    return X4"
   ]
  },
  {
   "cell_type": "code",
   "execution_count": 3,
   "id": "f6bb7375-5918-4104-a75f-81d80961f7e8",
   "metadata": {},
   "outputs": [
    {
     "name": "stderr",
     "output_type": "stream",
     "text": [
      "[nltk_data] Downloading package stopwords to\n",
      "[nltk_data]     C:\\Users\\Admin\\AppData\\Roaming\\nltk_data...\n",
      "[nltk_data]   Unzipping corpora\\stopwords.zip.\n",
      "[nltk_data] Downloading package punkt to\n",
      "[nltk_data]     C:\\Users\\Admin\\AppData\\Roaming\\nltk_data...\n",
      "[nltk_data]   Unzipping tokenizers\\punkt.zip.\n"
     ]
    },
    {
     "data": {
      "text/plain": [
       "True"
      ]
     },
     "execution_count": 3,
     "metadata": {},
     "output_type": "execute_result"
    }
   ],
   "source": [
    "import nltk\n",
    "nltk.download('stopwords')\n",
    "nltk.download('punkt')"
   ]
  },
  {
   "cell_type": "code",
   "execution_count": 6,
   "id": "d8eebbcf-39f7-42f7-a982-b84e5b0dfde9",
   "metadata": {},
   "outputs": [
    {
     "data": {
      "text/plain": [
       "MultinomialNB()"
      ]
     },
     "execution_count": 6,
     "metadata": {},
     "output_type": "execute_result"
    }
   ],
   "source": [
    "df=pd.read_csv('C:/Users/Admin/Desktop/Machine Learning Project/summer internship project/Restaurant_Reviews.txt',delimiter=\"\\t\")\n",
    "df.Review=list(map(clean_text,df.Review))\n",
    "cv=CountVectorizer(binary=False,ngram_range=(1,2))          \n",
    "X=cv.fit_transform(df.Review).toarray()\n",
    "y=df.Liked\n",
    "clf=MultinomialNB()\n",
    "clf.fit(X,y)"
   ]
  },
  {
   "cell_type": "code",
   "execution_count": 7,
   "id": "4a9e3429-f0fc-43c6-9a28-4fac0f0786f5",
   "metadata": {},
   "outputs": [
    {
     "data": {
      "text/plain": [
       "''"
      ]
     },
     "execution_count": 7,
     "metadata": {},
     "output_type": "execute_result"
    }
   ],
   "source": [
    "win=Tk()\n",
    "win.state(\"zoomed\")\n",
    "win.resizable(width=False,height=False)\n",
    "win.configure(bg=\"beige\")\n",
    "win.title(\"Manas' project\")"
   ]
  },
  {
   "cell_type": "code",
   "execution_count": 8,
   "id": "a9a2fea7-4206-4218-a401-85003fad7895",
   "metadata": {},
   "outputs": [],
   "source": [
    "lbl_title=Label(win,text=\"Review Ananlysis with AI+ML\",font=('',50,'bold'),bg='orange')\n",
    "lbl_title.place(relx=.3,rely=0)"
   ]
  },
  {
   "cell_type": "code",
   "execution_count": 9,
   "id": "b5e40cf4-6641-4396-9e30-0a34141f280c",
   "metadata": {},
   "outputs": [],
   "source": [
    "def predict_single(entry_user,lbl_result):\n",
    "    user_review=entry_user.get()\n",
    "    ct=clean_text(user_review)\n",
    "    X_test=cv.transform([ct]).toarray()\n",
    "    pred=clf.predict(X_test)\n",
    "    if(pred[0]==0):\n",
    "        lbl_result.configure(text=\"Not Liked\",fg=\"red\")\n",
    "    else:\n",
    "        lbl_result.configure(text=\"Liked\",fg=\"white\")\n",
    "\n",
    "def predict_save(entry_src,entry_dest):        \n",
    "    srcpath=entry_src.get()\n",
    "    destpath=entry_dest.get()\n",
    "    df=pd.read_csv(srcpath,names=['Review'])\n",
    "    X=df.Review.map(clean_text)\n",
    "    X_test=cv.transform(X).toarray()  \n",
    "    pred=clf.predict(X_test)\n",
    "    result_df=pd.DataFrame()\n",
    "    result_df['Review']=df.Review\n",
    "    result_df['Sentiment']=pred\n",
    "    result_df['Sentiment']=result_df['Sentiment'].map({0:\"Not Liked\",1:\"Liked\"})\n",
    "    result_df.to_csv(destpath,index=False,sep=\"\\t\")\n",
    "    messagebox.showinfo('Result',\"Prediction Done...\")\n",
    "def logout():\n",
    "    option=messagebox.askyesno('Confirmation','Do you want to logout?')\n",
    "    if(option==True):\n",
    "        home_screen()\n",
    "    else:\n",
    "        pass\n",
    "def home_screen():\n",
    "    frm=Frame(win,bg='green')\n",
    "    frm.place(relx=0,rely=.15,relwidth=1,relheight=1)\n",
    "    \n",
    "    lbl_user=Label(frm,text=\"Username\",font=('',20,'bold'),bg='green')\n",
    "    lbl_user.place(relx=.3,rely=.3)\n",
    "\n",
    "    entry_user=Entry(frm,font=('',20,'bold'),bd=10)\n",
    "    entry_user.place(relx=.42,rely=.3)\n",
    "    entry_user.focus()\n",
    "\n",
    "    lbl_pass=Label(frm,text=\"Password\",font=('',20,'bold'),bg='green')\n",
    "    lbl_pass.place(relx=.3,rely=.4)\n",
    "\n",
    "    entry_pass=Entry(frm,font=('',20,'bold'),bd=10,show=\"*\")\n",
    "    entry_pass.place(relx=.42,rely=.4)\n",
    "\n",
    "    btn_login=Button(frm,command=lambda:welcome_screen(entry_user,entry_pass),text=\"login\",font=('',20,'bold'),bd=10,width=10)\n",
    "    btn_login.place(relx=.45,rely=.5)\n",
    "\n",
    "def welcome_screen(entry_user=None,entry_pass=None):\n",
    "    if(entry_user!=None and entry_pass!=None):\n",
    "        user=entry_user.get()\n",
    "        pwd=entry_pass.get()\n",
    "    else:\n",
    "        user=\"admin\"\n",
    "        pwd=\"admin\"\n",
    "    if(len(user)==0 or len(pwd)==0):\n",
    "        messagebox.showwarning(\"validation\",\"Please fill both fields\")\n",
    "        return\n",
    "    else:\n",
    "        if(user==\"admin\" or pwd==\"admin\"):\n",
    "            frm=Frame(win,bg='green')\n",
    "            frm.place(relx=0,rely=.15,relwidth=1,relheight=1)\n",
    "\n",
    "            btn_single=Button(frm,command=lambda:single_feedback_screen(),text=\"Single Feedback Prediction\",font=('',20,'bold'),bd=10,width=25)\n",
    "            btn_single.place(relx=.35,rely=.2)\n",
    "\n",
    "            btn_bulk=Button(frm,command=lambda:bulk_feedback_screen(),text=\"Bulk Feedback Prediction\",font=('',20,'bold'),bd=10,width=25)\n",
    "            btn_bulk.place(relx=.35,rely=.4)\n",
    "\n",
    "            btn_logout=Button(frm,command=lambda:logout(),text=\"logout\",font=('',20,'bold'),bd=10)\n",
    "            btn_logout.place(relx=.9,rely=0)\n",
    "        else:\n",
    "            messagebox.showerror(\"Fail\",\"Invalid Username/Password\")\n",
    "    \n",
    "def single_feedback_screen():\n",
    "    frm=Frame(win,bg='green')\n",
    "    frm.place(relx=0,rely=.15,relwidth=1,relheight=1)\n",
    "    \n",
    "    lbl_user=Label(frm,text=\"Enter Feedback:\",font=('',20,'bold'),bg='green')\n",
    "    lbl_user.place(relx=.28,rely=.3)\n",
    "\n",
    "    entry_user=Entry(frm,font=('',20,'bold'),bd=10)\n",
    "    entry_user.place(relx=.45,rely=.3)\n",
    "    entry_user.focus()\n",
    "\n",
    "    lbl_result=Label(frm,text=\"Prediction:\",font=('',20,'bold'),bg='green')\n",
    "    lbl_result.place(relx=.35,rely=.55)\n",
    "\n",
    "    btn_login=Button(frm,command=lambda:predict_single(entry_user,lbl_result),text=\"predict\",font=('',20,'bold'),bd=10,width=8)\n",
    "    btn_login.place(relx=.47,rely=.42)\n",
    "\n",
    "    btn_back=Button(frm,command=lambda:welcome_screen(),text=\"back\",font=('',20,'bold'),bd=10)\n",
    "    btn_back.place(relx=.9,rely=0)\n",
    "\n",
    "def bulk_feedback_screen():\n",
    "    frm=Frame(win,bg='green')\n",
    "    frm.place(relx=0,rely=.15,relwidth=1,relheight=1)\n",
    "    \n",
    "    lbl_src=Label(frm,text=\"Select Source file:\",font=('',20,'bold'),bg='green')\n",
    "    lbl_src.place(relx=.26,rely=.2)\n",
    "    \n",
    "    lbl_dest=Label(frm,text=\"Select Destination Directory:\",font=('',20,'bold'),bg='green')\n",
    "    lbl_dest.place(relx=.20,rely=.32)\n",
    "    \n",
    "\n",
    "    entry_src=Entry(frm,font=('',20,'bold'),bd=10)\n",
    "    entry_src.place(relx=.45,rely=.2)\n",
    "    entry_src.focus()\n",
    "\n",
    "    entry_dest=Entry(frm,font=('',20,'bold'),bd=10)\n",
    "    entry_dest.place(relx=.45,rely=.32)\n",
    "    \n",
    "    btn_browse=Button(frm,command=lambda:browse(entry_src),text=\"browse\",font=('',20,'bold'),bd=10,width=8)\n",
    "    btn_browse.place(relx=.7,rely=.2)\n",
    "\n",
    "    btn_browse2=Button(frm,command=lambda:browse2(entry_dest),text=\"browse\",font=('',20,'bold'),bd=10,width=8)\n",
    "    btn_browse2.place(relx=.7,rely=.32)\n",
    "    \n",
    "    btn_login=Button(frm,command=lambda:predict_save(entry_src,entry_dest),text=\"predict and save\",font=('',20,'bold'),bd=10,width=15)\n",
    "    btn_login.place(relx=.47,rely=.6)\n",
    "\n",
    "    btn_back=Button(frm,command=lambda:welcome_screen(),text=\"back\",font=('',20,'bold'),bd=10)\n",
    "    btn_back.place(relx=.9,rely=0)\n",
    "    \n",
    "def browse(entry_path):\n",
    "    file_path=filedialog.askopenfilename()\n",
    "    entry_path.delete(0,END)\n",
    "    entry_path.insert(0,file_path)\n",
    "\n",
    "def browse2(entry_path):\n",
    "    file_path=filedialog.askdirectory()+\"/result.txt\"\n",
    "    entry_path.delete(0,END)\n",
    "    entry_path.insert(0,file_path)    \n",
    "home_screen()    \n",
    "win.mainloop() #to make window visible"
   ]
  },
  {
   "cell_type": "code",
   "execution_count": null,
   "id": "d5365680-a38b-440c-9b90-53138ae288ce",
   "metadata": {},
   "outputs": [],
   "source": []
  },
  {
   "cell_type": "code",
   "execution_count": null,
   "id": "13694eed-70c6-4acb-ab45-e98dea67788e",
   "metadata": {},
   "outputs": [],
   "source": []
  }
 ],
 "metadata": {
  "kernelspec": {
   "display_name": "Python 3",
   "language": "python",
   "name": "python3"
  },
  "language_info": {
   "codemirror_mode": {
    "name": "ipython",
    "version": 3
   },
   "file_extension": ".py",
   "mimetype": "text/x-python",
   "name": "python",
   "nbconvert_exporter": "python",
   "pygments_lexer": "ipython3",
   "version": "3.8.8"
  }
 },
 "nbformat": 4,
 "nbformat_minor": 5
}
